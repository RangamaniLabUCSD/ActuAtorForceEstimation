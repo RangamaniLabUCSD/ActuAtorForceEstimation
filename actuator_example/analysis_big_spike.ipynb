{
 "cells": [
  {
   "cell_type": "code",
   "execution_count": null,
   "metadata": {},
   "outputs": [],
   "source": [
    "%load_ext autoreload\n",
    "%autoreload 2\n",
    "%matplotlib inline"
   ]
  },
  {
   "cell_type": "markdown",
   "metadata": {},
   "source": [
    "### Loading helper functions"
   ]
  },
  {
   "cell_type": "code",
   "execution_count": null,
   "metadata": {},
   "outputs": [],
   "source": [
    "import matplotlib as mpl\n",
    "import matplotlib.pyplot as plt\n",
    "import numpy as np\n",
    "from IPython.display import Video\n",
    "from PIL import Image\n",
    "from tqdm.auto import tqdm\n",
    "\n",
    "# Must run everything in 64 bit for numerical robustness\n",
    "from jax.config import config\n",
    "config.update(\"jax_enable_x64\", True)\n",
    "\n",
    "from pathlib import Path\n",
    "\n",
    "import automembrane.plot_helper as ph\n",
    "from automembrane.geometry import ClosedPlaneCurveGeometry"
   ]
  },
  {
   "cell_type": "markdown",
   "metadata": {},
   "source": [
    "# Force analysis of ActuAtor|"
   ]
  },
  {
   "cell_type": "markdown",
   "metadata": {},
   "source": [
    "Summary of protocol for estimating forces on the membrane. Nuclei were traced from the EM images manually using Fiji. Assuming the Helfrich-Canham-Evans and surface energy of the membrane,\n",
    "\n",
    "$$E =  \\underbrace{\\int_\\Omega \\kappa_b H^2 dA}_{E_b} + \\underbrace{\\int_\\Omega \\sigma dA}_{E_\\sigma},$$\n",
    "\n",
    "where $\\kappa_b$ is the bending modulus, $H$ is the mean curvature given by the two principal curvatures, $(k_1 + k_2)/2$,  $\\sigma$ is the prescribed constant surface tension, and $dA$ the area element. Given that the segmented EM images are plane curves, we assume naively that the out of plane principal curvature is naught ($k_2 = 0$). Rewriting as an energy density (per length) and simplifying,\n",
    "\n",
    "$$\\frac{E_b}{l} =\\frac{\\kappa_b}{4} \\int_C k_1^2 ds,$$\n",
    "\n",
    "and \n",
    "\n",
    "$$\\frac{E_\\sigma}{l} =  \\sigma \\int_C ds,$$ \n",
    "\n",
    "\n",
    "where $l$ is the depth relating the integrals over area, $\\Omega$, and the plane curve, $C$; $ds$ is the arc-length element. To obtain the areal force density $f$ such that $f ds = -\\nabla (E/l)$, we use automatic differentiation using [`jax`](https://jax.readthedocs.io). Note that $f$ is independent of the length scale $l$. We choose the sum of half the length of each incident edge to be the dual length, $ds_i$, of the $i^{\\text{th}}$ vertex, $v_i$."
   ]
  },
  {
   "cell_type": "markdown",
   "metadata": {},
   "source": [
    "## Analysis (*34D-grid2-s3-acta1_001_16* as an example)"
   ]
  },
  {
   "cell_type": "code",
   "execution_count": null,
   "metadata": {},
   "outputs": [],
   "source": [
    "ph.matplotlibStyle(small=10, medium=12, large=14)\n",
    "\n",
    "file = Path('coordinates/cell1/34D-grid2-s3-acta1_001_16.txt')\n"
   ]
  },
  {
   "cell_type": "markdown",
   "metadata": {},
   "source": [
    "### Preprocessing and relxation of hand-traced outline\n",
    "\n",
    "We iterate over the segmentations. To ensure that the discrete curves are sufficiently sampled, we parameterize the curve using a B-spline and resample evenly. We perform `n_iter` steps of forward Euler energy relaxation to smooth out artifacts of the discretization."
   ]
  },
  {
   "cell_type": "code",
   "execution_count": null,
   "metadata": {},
   "outputs": [],
   "source": [
    "from variation_relax import preprocess_mesh, relax_bending, plot_contour\n",
    "\n",
    "coords, original_coords = preprocess_mesh(file, resample_geometry=True, n_vertices=1000)\n",
    "params = {\n",
    "    \"dt\": 1e-5,\n",
    "    \"n_iter\": int(8e2),\n",
    "    \"Kb\": 1,\n",
    "    \"Ksg\": 1,\n",
    "    \"Ksl\": 0.1,\n",
    "}\n",
    "relaxed_coords = relax_bending(coords, **params)\n",
    "np.savez(\n",
    "    f\"relaxed_coords/{file.stem}\",\n",
    "    relaxed_coords=relaxed_coords,\n",
    "    original_coords=original_coords,\n",
    ")\n",
    "fig = plt.figure(figsize=(5, 5))\n",
    "plot_contour(\n",
    "    fig,\n",
    "    file.stem,\n",
    "    original_coords,\n",
    "    relaxed_coords,\n",
    ")\n",
    "fig.set_tight_layout(True)\n",
    "plt.savefig(\"relaxed_coords/\" + file.stem + \".png\")\n",
    "plt.show()\n",
    "fig.clear()\n",
    "plt.close(fig)"
   ]
  },
  {
   "cell_type": "markdown",
   "metadata": {},
   "source": [
    "### Non-dimensionalization\n",
    "Because the exact material properties of the nuclear membrane are unknown, non-dimensional parameter variation enables efficient exploration across physical regimes.\n",
    "We need to choose a length scale to compare the magnitude of material properties, namely the surface tension and bending rigidity. To reflect the competition between surface tension and bending rigidity at highly stressed region, we choose the curvature scale $C_0$ to be the maximum absolute curvture of the geometry, which varies for each image. Then we can define a dimensionless surface tension $\\bar{\\sigma} = \\frac{\\sigma}{\\kappa_b C_0^2}$, and sweep from 0 to $\\bar{\\sigma}_{\\text{max}}$. We obtain the transition of membrane from bending dominated to tension dominate regimes.\n",
    "<!-- We first choose two scaling parameters bending rigidity $\\kappa_b$ and curvature $C_0$. First, we scale the coordinates of trace by $C_0$ before importing it into the energy evaluation. By fixing the dimensionless bending rigidity $\\bar{\\kappa_b} = 1$, we conduct parameter sweep on the nondimensional surface tension $\\bar{\\sigma} (= \\frac{\\sigma}{\\kappa_b C_0^2} )$. The resultant force computed $\\bar{f} = \\frac{\\bar{\\nabla} \\overline{(E/l)}}{d\\bar{s}} $ is therefore also dimensionless. If needed, we can recover the force with unit by scaling it using the relationship $f = \\kappa_b C_0^3 \\bar{f} $.  -->\n",
    "<!-- We obtain the value for ${\\kappa_b}$ from Lipowsky et al., 1991 and the range for ${\\sigma}$ from Gautheir et al., 2012, while the length scale is approximately the radius of our cells.\n",
    "Bending rigidity (${\\kappa_b}$): $10^{-19} J$ or ${10^{-7}}$ $\\mathrm{\\frac{kg~{\\mu m^2}}{s^2}}$\n",
    "Surface tension (${\\sigma}$): $0.01$ to $0.04$ $\\mathrm{\\frac{mN}{m}}$ or ${10^{-5}}$ to ${4~*~10^{-5}}$ $\\mathrm{\\frac{kg}{s^2}}$\n",
    "To non-dimensionalize the relationship between the bending rigidity, ${\\kappa_b}$, and the surface tension, ${\\sigma}$, we calculate the range of values for:\n",
    "$$\\mathrm{({\\sigma}~*~{\\frac{1}{\\kappa_b}})~*~(length~scale){^2}}$$\n",
    "Minimum:\n",
    "$$\\mathrm{{\\frac{10^{-5}~kg}{1~{s^2}}}~*~{\\frac{1~{s^2}}{10^{-7}~kg~\\mu {m^2}}}~*~(5~\\mu m){^2}~=~2500}$$\n",
    "Maximum:\n",
    "$$\\mathrm{{\\frac{4~*~10^{-5}~kg}{1~{s^2}}}~*~{\\frac{1~{s^2}}{10^{-7}~kg~\\mu {m^2}}}~*~(5~\\mu m){^2}~=~10000}$$ -->"
   ]
  },
  {
   "cell_type": "code",
   "execution_count": null,
   "metadata": {},
   "outputs": [],
   "source": [
    "from variation_run import get_dimensional_tension, get_force_density\n",
    "\n",
    "Ksg_range = np.linspace(0, 0.3, 1 + 2**6)\n",
    "\n",
    "Ksg_force = {}\n",
    "data = np.load(f\"relaxed_coords/{file.stem}.npz\")\n",
    "relaxed_coords = data[\"relaxed_coords\"]\n",
    "for Ksg_ in tqdm(Ksg_range, desc=\"Parameter variation\"):\n",
    "    # Instantiate material properties\n",
    "    Kb = 0.1\n",
    "    Ksg = get_dimensional_tension(Ksg_, Kb, relaxed_coords)\n",
    "    parameters = {\n",
    "        \"Kb\": Kb / 4,  # Bending modulus (pN um; original 1e-19 J)\n",
    "        \"Ksg\": Ksg,  # Global stretching modulus (pN um/um^2; original 0.05 mN/m)\n",
    "        \"Ksl\": 0,\n",
    "    }\n",
    "    Ksg_force[Ksg_] = get_force_density(parameters, relaxed_coords)\n",
    "\n",
    "Ksg_force = np.array([Ksg_force])\n",
    "np.savez(f\"forces/{file.stem}\", Ksg_range=Ksg_range, Ksg_force=Ksg_force)\n"
   ]
  },
  {
   "cell_type": "markdown",
   "metadata": {},
   "source": [
    "### Identify the plausible physical regime\n",
    "We predict that actin needs to pull in bending dominated and push in tension dominated regimes. "
   ]
  },
  {
   "cell_type": "code",
   "execution_count": null,
   "metadata": {},
   "outputs": [],
   "source": [
    "from make_movie import make_nondimensional_movie\n",
    "\n",
    "data = np.load(f\"forces/{file.stem}.npz\", allow_pickle=True)\n",
    "Ksg_range = data[\"Ksg_range\"]\n",
    "Ksg_force = data[\"Ksg_force\"][0]\n",
    "\n",
    "data = np.load(f\"relaxed_coords/{file.stem}.npz\")\n",
    "relaxed_coords = data[\"relaxed_coords\"]\n",
    "original_coords = data[\"original_coords\"]\n",
    "\n",
    "make_nondimensional_movie(\n",
    "    \"foo.mp4\",\n",
    "    file.stem,\n",
    "    original_coords,\n",
    "    relaxed_coords,\n",
    "    Ksg_force,\n",
    "    Ksg_range,\n",
    "    x_lim=np.array([18, 21]),\n",
    "    y_lim=np.array([12, 16]),\n",
    ")\n"
   ]
  },
  {
   "cell_type": "code",
   "execution_count": null,
   "metadata": {},
   "outputs": [],
   "source": [
    "# Show video in notebook\n",
    "Video(f\"movies/{file.stem}.mp4\", width=600, html_attributes=\"controls loop\")"
   ]
  },
  {
   "cell_type": "markdown",
   "metadata": {},
   "source": [
    "### Example dimensional model in tension dominated regime\n",
    "If we assume the parameters $\\kappa_b= 0.1~\\mathrm{ pN \\cdotμm} \\approx 24~\\mathrm{k_B T}$ and $\\sigma = 50~\\mathrm{pN/μm}$. The membrane force density of *34D-grid2-s3-acta1_001_16* can be estimated."
   ]
  },
  {
   "cell_type": "code",
   "execution_count": null,
   "metadata": {},
   "outputs": [],
   "source": [
    "import numpy as np\n",
    "from actuator_constants import image_microns_per_pixel\n",
    "\n",
    "def plot_dimensional(total_force): \n",
    "    fig = plt.figure(figsize=(5, 5))\n",
    "\n",
    "    x_lim = np.array([18, 21])\n",
    "    y_lim = np.array([12, 16])\n",
    "        \n",
    "    ax = fig.add_subplot(autoscale_on=False, xlim=x_lim, ylim=y_lim)\n",
    "    # flip y-axis\n",
    "    ax.set_ylim(ax.get_ylim()[::-1])\n",
    "    with Image.open(f\"raw_images/{file.stem}.TIF\") as im:\n",
    "        pixel_scale = image_microns_per_pixel[file.stem]\n",
    "        x_lim_pix = (x_lim / pixel_scale).round()\n",
    "        y_lim_pix = (y_lim / pixel_scale).round()\n",
    "\n",
    "        im = im.crop((x_lim_pix[0], y_lim_pix[0], x_lim_pix[1], y_lim_pix[1]))\n",
    "\n",
    "        plt.imshow(\n",
    "            im,\n",
    "            alpha=0.6,\n",
    "            extent=(x_lim[0], x_lim[1], y_lim[1], y_lim[0]),\n",
    "            zorder=0,\n",
    "            cmap=plt.cm.Greys_r,\n",
    "        )\n",
    "\n",
    "    ax.set_ylabel(r\"Y (μm)\")\n",
    "    ax.set_xlabel(r\"X (μm)\")\n",
    "\n",
    "    # Shrink current axis\n",
    "    box = ax.get_position()\n",
    "    ax.set_position([box.x0, box.y0, box.width * 0.8, box.height])\n",
    "\n",
    "    f_mag = np.linalg.norm(total_force, axis=1)\n",
    "    q = ax.quiver(\n",
    "        relaxed_coords[:, 0],\n",
    "        relaxed_coords[:, 1],\n",
    "        -total_force[:, 0],\n",
    "        -total_force[:, 1],\n",
    "        f_mag,\n",
    "        cmap=mpl.cm.viridis_r,\n",
    "        angles=\"xy\",\n",
    "        units=\"xy\",\n",
    "        label=\"force\",\n",
    "        scale=300,\n",
    "        scale_units=\"xy\",\n",
    "        width=0.02,\n",
    "        zorder=10,\n",
    "    )\n",
    "    cbar = fig.colorbar(\n",
    "        q,\n",
    "        ax=ax,\n",
    "    )\n",
    "    cbar.ax.get_yaxis().labelpad = 20\n",
    "    cbar.ax.set_ylabel(\"Force Density $\\mathrm{(pN/\\mu m^2)}$\", rotation=270)\n",
    "    # ax.legend(loc=\"center left\", bbox_to_anchor=(1, 0.5))\n",
    "    # cbar.ax.set_ylabel(\"Force Density ($\\mathregular{pN/\\mu m^2}$)\", rotation=270)\n",
    "    (line,) = ax.plot(\n",
    "        relaxed_coords[:, 0], relaxed_coords[:, 1], linewidth=0.2, color=\"r\"\n",
    "    )\n",
    "\n",
    "    # outline plots\n",
    "    (original_line,) = ax.plot(\n",
    "        original_coords[:, 0],\n",
    "        original_coords[:, 1],\n",
    "        \"-o\",\n",
    "        markersize=0.2,\n",
    "        linewidth=0.1,\n",
    "        color=\"k\",\n",
    "    )\n",
    "    return fig\n",
    "    \n",
    "\n",
    "parameters = {\n",
    "    \"Kb\": 0.1 / 4,  # Bending modulus (pN um; original 1e-19 J)\n",
    "    \"Ksg\": 50,  # Global stretching modulus (pN um/um^2; original 0.05 mN/m)\n",
    "    \"Ksl\": 0,   # Regularization modulus (pN um; 0)\n",
    "}\n",
    "\n",
    "forces = get_force_density(parameters, relaxed_coords)\n",
    "total_force = np.sum(forces, axis=0)\n",
    "fig = plot_dimensional(total_force)\n",
    "plt.show()\n",
    "fig.clear()\n",
    "plt.close(fig)\n"
   ]
  },
  {
   "cell_type": "markdown",
   "metadata": {},
   "source": [
    "#### Napkin math of estimating actin coverage \n",
    "\n",
    "Assuming an actin filament is ~7 $\\mathrm{nm}$ in diameter a conservative surface area occupancy is 4.9e-5 $\\mathrm{μ m^2}$. Depending on cell conditions a single actin filament can produce ~1 $\\mathrm{pN}$ of force. Then we can compute the maximum force density assuming full coverage. Naively assuming that force from actin linearly scale with its occupacy, and there is no branching and additional magnification mechanism, the area converage can be estimated."
   ]
  },
  {
   "cell_type": "code",
   "execution_count": null,
   "metadata": {},
   "outputs": [],
   "source": [
    "actin_force_density = 1.0 / 4.9e-5  # pN/um^2\n",
    "print(\"Actin force density:\", actin_force_density, \"pN/um^2\")\n",
    "f_mag = np.linalg.norm(total_force, axis=1)\n",
    "print(\n",
    "    \"Max force density of membrane:\",\n",
    "    np.max(f_mag),\n",
    "    \"pN/um^2;\",\n",
    ")\n",
    "print(\"Coverage:\", np.max(f_mag) / actin_force_density * 100, \"%\")\n",
    "dualLengths = ClosedPlaneCurveGeometry.vertex_dual_length(relaxed_coords)\n",
    "# print(\"Total force per length on membrane:\", np.sum(f_mag* dualLengths), \"pN/um\")"
   ]
  },
  {
   "cell_type": "code",
   "execution_count": null,
   "metadata": {},
   "outputs": [],
   "source": []
  }
 ],
 "metadata": {
  "kernelspec": {
   "display_name": "Python 3.10.5 ('jax')",
   "language": "python",
   "name": "python3"
  },
  "language_info": {
   "codemirror_mode": {
    "name": "ipython",
    "version": 3
   },
   "file_extension": ".py",
   "mimetype": "text/x-python",
   "name": "python",
   "nbconvert_exporter": "python",
   "pygments_lexer": "ipython3",
   "version": "3.10.5"
  },
  "orig_nbformat": 4,
  "vscode": {
   "interpreter": {
    "hash": "210378806b5dba27735b63d96024f619b0e9e30975afa77c8fe029bbbd49e13b"
   }
  }
 },
 "nbformat": 4,
 "nbformat_minor": 2
}
