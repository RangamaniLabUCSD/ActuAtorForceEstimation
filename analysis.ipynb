{
 "cells": [
  {
   "cell_type": "markdown",
   "metadata": {},
   "source": [
    "# Force analysis of ActuAtor"
   ]
  },
  {
   "cell_type": "markdown",
   "metadata": {},
   "source": [
    "Summary of protocol for estimating forces on the membrane. Nuclei were traced from the EM images manually using Fiji. Assuming the Helfrich-Canham-Evans and surface energy of the membrane,\n",
    "\n",
    "$$E =  \\underbrace{\\int_\\Omega \\kappa_b H^2 dA}_{E_b} + \\underbrace{\\int_\\Omega \\sigma dA}_{E_\\sigma},$$\n",
    "\n",
    "where $\\kappa_b$ is the bending modulus, $H$ is the mean curvature given by the two principal curvatures, $(k_1 + k_2)/2$,  $\\sigma$ is the prescribed constant surface tension, and $dA$ the area element. Given that the segmented EM images are plane curves, we assume naively that the out of plane principal curvature is naught ($k_2 = 0$). Rewriting as an energy density (per length) and simplifying,\n",
    "\n",
    "$$\\frac{E_b}{l} =\\frac{\\kappa_b}{4} \\int_C k_1^2 ds,$$\n",
    "\n",
    "and \n",
    "\n",
    "$$\\frac{E_\\sigma}{l} =  \\sigma \\int_C ds,$$ \n",
    "\n",
    "\n",
    "where $l$ is the depth relating the integrals over area, $\\Omega$, and the plane curve, $C$; $ds$ is the arc-length element. To obtain the areal force density $f$ such that $f ds = -\\nabla (E/l)$, we use automatic differentiation using `jax`. Note that $f$ is independent of the length scale $l$.  "
   ]
  },
  {
   "cell_type": "markdown",
   "metadata": {},
   "source": [
    "## Analysis"
   ]
  },
  {
   "cell_type": "code",
   "execution_count": 1,
   "metadata": {},
   "outputs": [],
   "source": [
    "%matplotlib inline\n",
    "from collections import defaultdict\n",
    "from functools import partial\n",
    "from pathlib import Path\n",
    "\n",
    "import matplotlib as mpl\n",
    "import matplotlib.pyplot as plt\n",
    "import numpy as np\n",
    "from PIL import Image\n",
    "from tqdm.notebook import tqdm\n",
    "\n",
    "import automembrane.util as u\n",
    "from automembrane.energy import (getEnergy2DClosed, getEnergy2DClosed_notrace)\n",
    "\n",
    "u.matplotlibStyle(small=10, medium=12, large=14)\n",
    "\n",
    "files = list(\n",
    "    map(\n",
    "        Path,\n",
    "        [\n",
    "            f\"coordinates/{i}\"\n",
    "            for i in [\n",
    "                \"cell1/34D-grid2-s3-acta1_001_16.txt\",\n",
    "                \"cell2/34D-grid3-ActA1_007_16.txt\",\n",
    "                \"cell2/34D-grid3-ActA1_013_16.txt\",\n",
    "                \"cell3/34D-grid2-s2_002_16.txt\",\n",
    "                \"cell3/34D-grid2-s5_005_16.txt\",\n",
    "                \"cell3/34D-grid3-ActA1_020_16.txt\",\n",
    "                \"cell3/34D-grid3-s6_005_16.txt\",\n",
    "                \"cell4/34D-grid2-s3_028_16.txt\",\n",
    "                \"cell5/34D-grid3-ActA1_001_16.txt\",\n",
    "                \"cell5/34D-grid3-ActA1_002_16.txt\",\n",
    "                \"cell5/34D-grid3-ActA1_003_16.txt\",\n",
    "                \"cell5/34D-grid3-ActA1_004_16.txt\",\n",
    "            ]\n",
    "        ],\n",
    "    )\n",
    ")\n",
    "\n",
    "images = {\n",
    "    \"34D-grid2-s3-acta1_001_16\": 0.012723,\n",
    "    \"34D-grid3-ActA1_007_16\": 0.015904,\n",
    "    \"34D-grid3-ActA1_013_16\": 0.015904,\n",
    "    \"34D-grid2-s2_002_16\": 0.015904,\n",
    "    \"34D-grid2-s5_005_16\": 0.015904,\n",
    "    \"34D-grid3-ActA1_020_16\": 0.015904,\n",
    "    \"34D-grid3-s6_005_16\": 0.015904,\n",
    "    \"34D-grid2-s3_028_16\": 0.015904,\n",
    "    \"34D-grid3-ActA1_001_16\": 0.015904,\n",
    "    \"34D-grid3-ActA1_002_16\": 0.015904,\n",
    "    \"34D-grid3-ActA1_003_16\": 0.015904,\n",
    "    \"34D-grid3-ActA1_004_16\": 0.015904,\n",
    "}"
   ]
  },
  {
   "cell_type": "markdown",
   "metadata": {},
   "source": [
    "Assuming bending modulus $1\\times10^{-19}$ J and modest membrane tension $0.05$ mN/m."
   ]
  },
  {
   "cell_type": "code",
   "execution_count": 2,
   "metadata": {},
   "outputs": [],
   "source": [
    "parameters = {\n",
    "    \"Kb\": 0.1 / 4,  # Bending modulus (pN um; original 1e-19 J)\n",
    "    \"Ksg\": 50,  # Global stretching modulus (pN um/um^2; original 0.05 mN/m)\n",
    "}\n",
    "f_energy = partial(getEnergy2DClosed, **parameters)\n"
   ]
  },
  {
   "cell_type": "markdown",
   "metadata": {},
   "source": [
    "We iterate over the segmentations. To ensure that the discrete curves are sufficiently sampled, we parameterize the curve using a B-spline and resample evenly. We perform `n_iter` steps of forward Euler energy relaxation to smooth out artifacts of the discretization. We choose the sum of half the length of each incident edge to be the dual length, $ds_i$, of the $i^{\\text{th}}$ vertex, $v_i$."
   ]
  },
  {
   "cell_type": "code",
   "execution_count": 3,
   "metadata": {},
   "outputs": [
    {
     "name": "stdout",
     "output_type": "stream",
     "text": [
      "Processing: 34D-grid2-s3-acta1_001_16\n"
     ]
    },
    {
     "data": {
      "application/vnd.jupyter.widget-view+json": {
       "model_id": "b39300193e2f4afa9eb1e322087f145d",
       "version_major": 2,
       "version_minor": 0
      },
      "text/plain": [
       "Energy relaxation:   0%|          | 0/1000 [00:00<?, ?it/s]"
      ]
     },
     "metadata": {},
     "output_type": "display_data"
    },
    {
     "name": "stdout",
     "output_type": "stream",
     "text": [
      "Bending Energy: 1.30; Stretching Energy: 2836.54\n",
      "Processing: 34D-grid3-ActA1_007_16\n"
     ]
    },
    {
     "data": {
      "application/vnd.jupyter.widget-view+json": {
       "model_id": "ab84fe6323e9429e9a3cda3617c8b94e",
       "version_major": 2,
       "version_minor": 0
      },
      "text/plain": [
       "Energy relaxation:   0%|          | 0/1000 [00:00<?, ?it/s]"
      ]
     },
     "metadata": {},
     "output_type": "display_data"
    },
    {
     "name": "stdout",
     "output_type": "stream",
     "text": [
      "Bending Energy: 0.83; Stretching Energy: 2157.02\n",
      "Processing: 34D-grid3-ActA1_013_16\n"
     ]
    },
    {
     "data": {
      "application/vnd.jupyter.widget-view+json": {
       "model_id": "5997aa6d306d4d48a5de2c6d7ddb4254",
       "version_major": 2,
       "version_minor": 0
      },
      "text/plain": [
       "Energy relaxation:   0%|          | 0/1000 [00:00<?, ?it/s]"
      ]
     },
     "metadata": {},
     "output_type": "display_data"
    },
    {
     "name": "stdout",
     "output_type": "stream",
     "text": [
      "Bending Energy: 1.30; Stretching Energy: 2082.67\n",
      "Processing: 34D-grid2-s2_002_16\n"
     ]
    },
    {
     "data": {
      "application/vnd.jupyter.widget-view+json": {
       "model_id": "4f5c4f79c6cc4feaa465d4cda3c4eb91",
       "version_major": 2,
       "version_minor": 0
      },
      "text/plain": [
       "Energy relaxation:   0%|          | 0/1000 [00:00<?, ?it/s]"
      ]
     },
     "metadata": {},
     "output_type": "display_data"
    },
    {
     "name": "stdout",
     "output_type": "stream",
     "text": [
      "Bending Energy: 3.07; Stretching Energy: 2490.68\n",
      "Processing: 34D-grid2-s5_005_16\n"
     ]
    },
    {
     "data": {
      "application/vnd.jupyter.widget-view+json": {
       "model_id": "13768e07a861475e83d60587eb055281",
       "version_major": 2,
       "version_minor": 0
      },
      "text/plain": [
       "Energy relaxation:   0%|          | 0/1000 [00:00<?, ?it/s]"
      ]
     },
     "metadata": {},
     "output_type": "display_data"
    },
    {
     "name": "stdout",
     "output_type": "stream",
     "text": [
      "Bending Energy: 5.85; Stretching Energy: 2638.00\n",
      "Processing: 34D-grid3-ActA1_020_16\n"
     ]
    },
    {
     "data": {
      "application/vnd.jupyter.widget-view+json": {
       "model_id": "de4a7040b5614706b8a12a413fc0e828",
       "version_major": 2,
       "version_minor": 0
      },
      "text/plain": [
       "Energy relaxation:   0%|          | 0/1000 [00:00<?, ?it/s]"
      ]
     },
     "metadata": {},
     "output_type": "display_data"
    },
    {
     "name": "stdout",
     "output_type": "stream",
     "text": [
      "Bending Energy: 2.39; Stretching Energy: 2550.04\n",
      "Processing: 34D-grid3-s6_005_16\n"
     ]
    },
    {
     "data": {
      "application/vnd.jupyter.widget-view+json": {
       "model_id": "91a0cad3f4844af09602485dfde708e1",
       "version_major": 2,
       "version_minor": 0
      },
      "text/plain": [
       "Energy relaxation:   0%|          | 0/1000 [00:00<?, ?it/s]"
      ]
     },
     "metadata": {},
     "output_type": "display_data"
    },
    {
     "name": "stdout",
     "output_type": "stream",
     "text": [
      "Bending Energy: 1.67; Stretching Energy: 2242.40\n",
      "Processing: 34D-grid2-s3_028_16\n"
     ]
    },
    {
     "data": {
      "application/vnd.jupyter.widget-view+json": {
       "model_id": "6c0da96441f544398c10c5bfeac989b1",
       "version_major": 2,
       "version_minor": 0
      },
      "text/plain": [
       "Energy relaxation:   0%|          | 0/1000 [00:00<?, ?it/s]"
      ]
     },
     "metadata": {},
     "output_type": "display_data"
    },
    {
     "name": "stdout",
     "output_type": "stream",
     "text": [
      "Bending Energy: 1.38; Stretching Energy: 2057.83\n",
      "Processing: 34D-grid3-ActA1_001_16\n"
     ]
    },
    {
     "data": {
      "application/vnd.jupyter.widget-view+json": {
       "model_id": "2ea2ad5b9dba441ab4a5870a06b3cbe5",
       "version_major": 2,
       "version_minor": 0
      },
      "text/plain": [
       "Energy relaxation:   0%|          | 0/1000 [00:00<?, ?it/s]"
      ]
     },
     "metadata": {},
     "output_type": "display_data"
    },
    {
     "name": "stdout",
     "output_type": "stream",
     "text": [
      "Bending Energy: 1.16; Stretching Energy: 2038.05\n",
      "Processing: 34D-grid3-ActA1_002_16\n"
     ]
    },
    {
     "data": {
      "application/vnd.jupyter.widget-view+json": {
       "model_id": "47d615ae09df41b7a9cb020cd75dc936",
       "version_major": 2,
       "version_minor": 0
      },
      "text/plain": [
       "Energy relaxation:   0%|          | 0/1000 [00:00<?, ?it/s]"
      ]
     },
     "metadata": {},
     "output_type": "display_data"
    },
    {
     "name": "stdout",
     "output_type": "stream",
     "text": [
      "Bending Energy: 0.88; Stretching Energy: 1880.63\n",
      "Processing: 34D-grid3-ActA1_003_16\n"
     ]
    },
    {
     "data": {
      "application/vnd.jupyter.widget-view+json": {
       "model_id": "66b6e56a32be4531b22015c52523aa68",
       "version_major": 2,
       "version_minor": 0
      },
      "text/plain": [
       "Energy relaxation:   0%|          | 0/1000 [00:00<?, ?it/s]"
      ]
     },
     "metadata": {},
     "output_type": "display_data"
    },
    {
     "name": "stdout",
     "output_type": "stream",
     "text": [
      "Bending Energy: 0.80; Stretching Energy: 2068.51\n",
      "Processing: 34D-grid3-ActA1_004_16\n"
     ]
    },
    {
     "data": {
      "application/vnd.jupyter.widget-view+json": {
       "model_id": "4c46a5c143424a10af0adfd220592bfa",
       "version_major": 2,
       "version_minor": 0
      },
      "text/plain": [
       "Energy relaxation:   0%|          | 0/1000 [00:00<?, ?it/s]"
      ]
     },
     "metadata": {},
     "output_type": "display_data"
    },
    {
     "name": "stdout",
     "output_type": "stream",
     "text": [
      "Bending Energy: 0.97; Stretching Energy: 2049.96\n"
     ]
    }
   ],
   "source": [
    "from scipy.interpolate import splprep, splev\n",
    "\n",
    "n_vertices = 1000  # Number of vertices in resampling\n",
    "dt = 5e-6  # Timestep\n",
    "n_iter = 1000  # Number of relaxation steps\n",
    "energy_log = np.zeros(n_iter)\n",
    "data = defaultdict(dict)\n",
    "\n",
    "for file in files:\n",
    "    k = file.stem\n",
    "\n",
    "    print(\"Processing:\", k)\n",
    "    original_coords = np.loadtxt(file)\n",
    "    original_coords = np.vstack(\n",
    "        (original_coords, original_coords[0])\n",
    "    )  # Energy expects last point to equal first\n",
    "    data[k][\"original_coords\"] = original_coords\n",
    "\n",
    "    # Periodic cubic B-spline interpolation with no smoothing (s=0)\n",
    "    tck, _ = splprep([original_coords[:, 0], original_coords[:, 1]], s=0, per=True)\n",
    "    data[k][\"spline\"] = tck\n",
    "\n",
    "    xi, yi = splev(np.linspace(0, 1, n_vertices), tck)\n",
    "    coords = np.hstack((xi.reshape(-1, 1), yi.reshape(-1, 1)))\n",
    "\n",
    "    # Perform energy relaxation\n",
    "    relaxed_coords = coords\n",
    "    for i in tqdm(range(0, n_iter), desc=\"Energy relaxation\"):\n",
    "        energy_log[i] = f_energy(relaxed_coords)\n",
    "        relaxed_coords = np.array(\n",
    "            relaxed_coords - u.egrad(f_energy)(relaxed_coords) * dt\n",
    "        )\n",
    "        relaxed_coords[-1] = relaxed_coords[0]\n",
    "    data[k][\"relaxed_coords\"] = relaxed_coords\n",
    "    # print(energy_log[::10])\n",
    "    be, se = getEnergy2DClosed_notrace(relaxed_coords, **parameters)\n",
    "    print(f\"Bending Energy: {be:0.2f}; Stretching Energy: {se:0.2f}\")\n",
    "\n",
    "    # Compute dual length\n",
    "    x = relaxed_coords[:-1, 0]\n",
    "    y = relaxed_coords[:-1, 1]\n",
    "    dx = np.roll(x, -1) - x\n",
    "    dy = np.roll(y, -1) - y\n",
    "    edgeLengths = np.sqrt(dx**2 + dy**2)\n",
    "    dualLengths = ((edgeLengths + np.roll(edgeLengths, 1)) / 2.0).reshape(-1, 1)\n",
    "    dualLengths = np.vstack((dualLengths, dualLengths[0]))\n",
    "    data[k][\"dualLengths\"] = dualLengths\n",
    "\n",
    "    forces = -u.egrad(f_energy)(relaxed_coords) / dualLengths\n",
    "    data[k][\"relaxed_forces\"] = forces\n"
   ]
  },
  {
   "cell_type": "code",
   "execution_count": null,
   "metadata": {},
   "outputs": [],
   "source": [
    "cm = mpl.cm.viridis_r\n",
    "\n",
    "for file in files:\n",
    "    k = file.stem\n",
    "    d = data[k]\n",
    "\n",
    "    original_coords = d[\"original_coords\"]\n",
    "    relaxed_coords = d[\"relaxed_coords\"]\n",
    "    forces = d[\"relaxed_forces\"]\n",
    "    dualLengths = d[\"dualLengths\"]\n",
    "    f_mag = np.linalg.norm(forces, axis=1)\n",
    "\n",
    "    norm = mpl.colors.Normalize(vmin=np.amin(f_mag), vmax=np.amax(f_mag))\n",
    "    # Map values to colors and add vertex color layer\n",
    "    colors = cm(norm(f_mag))\n",
    "\n",
    "    with Image.open(f\"crop_images/{k}.png\") as im:\n",
    "        pixel_scale = images[k]\n",
    "\n",
    "        fig, ax = plt.subplots(1, 1, figsize=(5, 5))\n",
    "        # ax.plot(original_coords[:, 0], original_coords[:, 1], color=\"r\")\n",
    "        # ax.plot(relaxed_coords[:, 0], relaxed_coords[:, 1], color=\"gray\", zorder=1)\n",
    "\n",
    "        ax.quiver(\n",
    "            relaxed_coords[:, 0],\n",
    "            relaxed_coords[:, 1],\n",
    "            forces[:, 0],\n",
    "            -forces[:, 1],\n",
    "            units=\"xy\",\n",
    "            label=\"force\",\n",
    "            color=colors,\n",
    "            scale=400,\n",
    "            width=0.07,\n",
    "            zorder=10,\n",
    "        )\n",
    "        ax.set_ylabel(r\"X (μm)\")\n",
    "        ax.set_xlabel(r\"Y (μm)\")\n",
    "\n",
    "        x_lim = np.array(ax.get_xlim())\n",
    "        y_lim = np.array(ax.get_ylim())\n",
    "\n",
    "        x_lim_pix = (x_lim / pixel_scale).round()\n",
    "        y_lim_pix = (y_lim / pixel_scale).round()\n",
    "\n",
    "        ax.set_ylim(ax.get_ylim()[::-1])\n",
    "\n",
    "        im = im.crop((x_lim_pix[0], y_lim_pix[0], x_lim_pix[1], y_lim_pix[1]))\n",
    "\n",
    "        plt.imshow(\n",
    "            im, alpha=0.3, extent=(x_lim[0], x_lim[1], y_lim[1], y_lim[0]), zorder=0\n",
    "        )\n",
    "\n",
    "        # Shrink current axis\n",
    "        box = ax.get_position()\n",
    "        ax.set_position([box.x0, box.y0, box.width * 0.8, box.height])\n",
    "\n",
    "        # ax.legend(loc=\"center left\", bbox_to_anchor=(1, 0.5))\n",
    "        cbar = fig.colorbar(mpl.cm.ScalarMappable(norm=norm, cmap=cm), ax=ax)\n",
    "        cbar.ax.get_yaxis().labelpad = 20\n",
    "        cbar.ax.set_ylabel(\"Force Density ($\\mathregular{pN/\\mu m^2}$)\", rotation=270)\n",
    "\n",
    "        plt.savefig(f\"Figures/{file.stem}_force.pdf\")\n",
    "        plt.show()\n"
   ]
  },
  {
   "cell_type": "code",
   "execution_count": 24,
   "metadata": {},
   "outputs": [
    {
     "name": "stdout",
     "output_type": "stream",
     "text": [
      "Mean dual length: 0.056785032 μm; 0.00322453987663196 μm^2\n",
      "Mean dual length: 0.04318358 μm; 0.0018648215851515548 μm^2\n",
      "Mean dual length: 0.041673888 μm; 0.0017367129011153365 μm^2\n",
      "Mean dual length: 0.049848877 μm; 0.0024849105275453476 μm^2\n",
      "Mean dual length: 0.052812606 μm; 0.0027891713626795323 μm^2\n",
      "Mean dual length: 0.051051725 μm; 0.0026062785950610318 μm^2\n",
      "Mean dual length: 0.04489381 μm; 0.002015454056260302 μm^2\n",
      "Mean dual length: 0.04119739 μm; 0.0016972248904290055 μm^2\n",
      "Mean dual length: 0.04079708 μm; 0.0016644018054441517 μm^2\n",
      "Mean dual length: 0.03765255 μm; 0.0014177144012062076 μm^2\n",
      "Mean dual length: 0.04141247 μm; 0.0017149925886448397 μm^2\n",
      "Mean dual length: 0.041040085 μm; 0.001684288597827932 μm^2\n"
     ]
    }
   ],
   "source": [
    "for file in files:\n",
    "    k = file.stem\n",
    "    d = data[k]\n",
    "\n",
    "    original_coords = d[\"original_coords\"]\n",
    "    relaxed_coords = d[\"relaxed_coords\"]\n",
    "    forces = d[\"relaxed_forces\"]\n",
    "    dualLengths = d[\"dualLengths\"]\n",
    "\n",
    "    print(\n",
    "        \"Mean dual length:\",\n",
    "        np.mean(dualLengths),\n",
    "        \"μm;\",\n",
    "        np.mean(dualLengths) ** 2,\n",
    "        \"μm^2\",\n",
    "    )\n"
   ]
  },
  {
   "cell_type": "markdown",
   "metadata": {},
   "source": [
    "Assuming an actin filament is ~7nm in diameter a conservative surface area occupancy is 49 $\\mathrm{nm^2}$ or 4.9e-5 $\\mathrm{\\mu m^2}$. Depending on cell conditions a single actin filament can produce ~1 pN of force.\n",
    "\n",
    "Then 1pN * A / 4.9e-5 μm^2 gives the maximum force assuming full surface coverage by pushing actin.\n",
    "\n",
    "\n"
   ]
  }
 ],
 "metadata": {
  "kernelspec": {
   "display_name": "Python 3.10.0 ('jax')",
   "language": "python",
   "name": "python3"
  },
  "language_info": {
   "codemirror_mode": {
    "name": "ipython",
    "version": 3
   },
   "file_extension": ".py",
   "mimetype": "text/x-python",
   "name": "python",
   "nbconvert_exporter": "python",
   "pygments_lexer": "ipython3",
   "version": "3.10.0"
  },
  "orig_nbformat": 4,
  "vscode": {
   "interpreter": {
    "hash": "210378806b5dba27735b63d96024f619b0e9e30975afa77c8fe029bbbd49e13b"
   }
  }
 },
 "nbformat": 4,
 "nbformat_minor": 2
}
